{
    "cells": [
        {
            "metadata": {
                "collapsed": true
            },
            "cell_type": "markdown",
            "source": "   #                              My Jupyter Notebook on IBM Watson Studio"
        },
        {
            "metadata": {},
            "cell_type": "markdown",
            "source": "**Michael Item Polanco**\n\nCustomer Services Representative"
        },
        {
            "metadata": {},
            "cell_type": "markdown",
            "source": "*I am interested in data science because I want to get better job and analyze data that can help people in the future.*"
        },
        {
            "metadata": {},
            "cell_type": "markdown",
            "source": "### The following code tests multiplication, subtraction and a division"
        },
        {
            "metadata": {},
            "cell_type": "code",
            "source": "15*15-50/2",
            "execution_count": 13,
            "outputs": [
                {
                    "output_type": "execute_result",
                    "execution_count": 13,
                    "data": {
                        "text/plain": "200.0"
                    },
                    "metadata": {}
                }
            ]
        },
        {
            "metadata": {},
            "cell_type": "markdown",
            "source": "![alt text](https://d3njjcbhbojbot.cloudfront.net/api/utilities/v1/imageproxy/https://coursera-profile-photos.s3.amazonaws.com/b0/e41684c0a24bf5b6e24d56958b9bfb/micha.jpg?auto=format%2Ccompress&dpr=1&w=40&h=40)"
        },
        {
            "metadata": {},
            "cell_type": "markdown",
            "source": "---"
        },
        {
            "metadata": {},
            "cell_type": "markdown",
            "source": "___"
        },
        {
            "metadata": {},
            "cell_type": "markdown",
            "source": "* Humble\n- Honest\n+ Funny"
        },
        {
            "metadata": {},
            "cell_type": "code",
            "source": "",
            "execution_count": null,
            "outputs": []
        }
    ],
    "metadata": {
        "kernelspec": {
            "name": "python3",
            "display_name": "Python 3.6",
            "language": "python"
        },
        "language_info": {
            "name": "python",
            "version": "3.6.9",
            "mimetype": "text/x-python",
            "codemirror_mode": {
                "name": "ipython",
                "version": 3
            },
            "pygments_lexer": "ipython3",
            "nbconvert_exporter": "python",
            "file_extension": ".py"
        }
    },
    "nbformat": 4,
    "nbformat_minor": 1
}